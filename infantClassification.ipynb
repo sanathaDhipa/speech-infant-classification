{
 "cells": [
  {
   "cell_type": "code",
   "execution_count": 37,
   "metadata": {},
   "outputs": [],
   "source": [
    "import pathlib\n",
    "import matplotlib.pyplot as plt\n",
    "import numpy as np\n",
    "import tensorflow as tf\n",
    "import scipy.io.wavfile as wavfile\n",
    "\n",
    "from tensorflow.keras import layers, models"
   ]
  },
  {
   "cell_type": "code",
   "execution_count": 38,
   "metadata": {},
   "outputs": [
    {
     "name": "stdout",
     "output_type": "stream",
     "text": [
      "['belly_pain' 'burping' 'discomfort' 'hungry' 'tired']\n"
     ]
    }
   ],
   "source": [
    "FILE_PATH = './donateacry_corpus'\n",
    "dataset = pathlib.Path(FILE_PATH)\n",
    "cry_list = np.array(tf.io.gfile.listdir(str(dataset)))\n",
    "print(cry_list) "
   ]
  },
  {
   "cell_type": "code",
   "execution_count": 39,
   "metadata": {},
   "outputs": [
    {
     "name": "stdout",
     "output_type": "stream",
     "text": [
      "Found 457 files belonging to 5 classes.\n",
      "Using 366 files for training.\n",
      "Using 91 files for validation.\n",
      "['belly_pain' 'burping' 'discomfort' 'hungry' 'tired']\n"
     ]
    }
   ],
   "source": [
    "train_set, val_set = tf.keras.utils.audio_dataset_from_directory(\n",
    "    directory=FILE_PATH,\n",
    "    batch_size=16,\n",
    "    seed=0,\n",
    "    validation_split=.2,\n",
    "    output_sequence_length=16000,\n",
    "    subset='both'\n",
    ")\n",
    "\n",
    "label_names = np.array(train_set.class_names)\n",
    "print(label_names)"
   ]
  },
  {
   "cell_type": "code",
   "execution_count": 40,
   "metadata": {},
   "outputs": [],
   "source": [
    "def squeeze(audio, label):\n",
    "    audio=tf.squeeze(audio, axis=-1)\n",
    "    return audio, label\n",
    "\n",
    "train_set = train_set.map(squeeze, tf.data.AUTOTUNE)\n",
    "val_set = val_set.map(squeeze, tf.data.AUTOTUNE)\n",
    "\n",
    "test_set = val_set.shard(num_shards=2, index=0)\n",
    "val_set = val_set.shard(num_shards=2, index=1)"
   ]
  },
  {
   "cell_type": "code",
   "execution_count": 41,
   "metadata": {},
   "outputs": [],
   "source": [
    "def get_spectogram(waveform):\n",
    "    spectogram=tf.signal.stft(\n",
    "        signals=waveform,\n",
    "        frame_length=255,\n",
    "        frame_step=128\n",
    "    )\n",
    "    spectogram=tf.abs(spectogram)\n",
    "    spectogram=spectogram[..., tf.newaxis]\n",
    "    return spectogram\n",
    "\n",
    "def make_spectogram_ds(ds):\n",
    "    return ds.map(\n",
    "        map_func=lambda audio, label: (get_spectogram(audio), label),\n",
    "        num_parallel_calls=tf.data.AUTOTUNE\n",
    "    )"
   ]
  },
  {
   "cell_type": "code",
   "execution_count": 42,
   "metadata": {},
   "outputs": [],
   "source": [
    "train_set_spec = make_spectogram_ds(train_set).cache().shuffle(1000).prefetch(tf.data.AUTOTUNE)\n",
    "val_set_spec = make_spectogram_ds(val_set).cache().prefetch(tf.data.AUTOTUNE)\n",
    "test_set_spec = make_spectogram_ds(test_set).cache().prefetch(tf.data.AUTOTUNE)"
   ]
  },
  {
   "cell_type": "code",
   "execution_count": 43,
   "metadata": {},
   "outputs": [],
   "source": [
    "for example_case, example_case_label in train_set_spec.take(1):\n",
    "    break"
   ]
  },
  {
   "cell_type": "code",
   "execution_count": 44,
   "metadata": {},
   "outputs": [
    {
     "name": "stdout",
     "output_type": "stream",
     "text": [
      "Model: \"sequential_2\"\n",
      "_________________________________________________________________\n",
      " Layer (type)                Output Shape              Param #   \n",
      "=================================================================\n",
      " resizing_2 (Resizing)       (None, 32, 32, 1)         0         \n",
      "                                                                 \n",
      " normalization_2 (Normalizat  (None, 32, 32, 1)        3         \n",
      " ion)                                                            \n",
      "                                                                 \n",
      " conv2d_4 (Conv2D)           (None, 30, 30, 32)        320       \n",
      "                                                                 \n",
      " conv2d_5 (Conv2D)           (None, 28, 28, 64)        18496     \n",
      "                                                                 \n",
      " max_pooling2d_2 (MaxPooling  (None, 14, 14, 64)       0         \n",
      " 2D)                                                             \n",
      "                                                                 \n",
      " dropout_4 (Dropout)         (None, 14, 14, 64)        0         \n",
      "                                                                 \n",
      " flatten_2 (Flatten)         (None, 12544)             0         \n",
      "                                                                 \n",
      " dense_4 (Dense)             (None, 128)               1605760   \n",
      "                                                                 \n",
      " dropout_5 (Dropout)         (None, 128)               0         \n",
      "                                                                 \n",
      " dense_5 (Dense)             (None, 5)                 645       \n",
      "                                                                 \n",
      "=================================================================\n",
      "Total params: 1,625,224\n",
      "Trainable params: 1,625,221\n",
      "Non-trainable params: 3\n",
      "_________________________________________________________________\n"
     ]
    }
   ],
   "source": [
    "input_shape = example_case.shape[1:]\n",
    "num_label = len(cry_list)\n",
    "norm_layer = layers.Normalization()\n",
    "norm_layer.adapt(data=train_set_spec.map(map_func=lambda spec, label: spec))\n",
    "\n",
    "model = models.Sequential([\n",
    "    layers.Input(shape=input_shape),\n",
    "    layers.Resizing(32, 32),\n",
    "    norm_layer,\n",
    "    layers.Conv2D(32, 3, activation='relu'),\n",
    "    layers.Conv2D(64, 3, activation='relu'),\n",
    "    layers.MaxPooling2D(),\n",
    "    layers.Dropout(.25),\n",
    "    layers.Flatten(),\n",
    "    layers.Dense(128, activation='relu'),\n",
    "    layers.Dropout(.5),\n",
    "    layers.Dense(num_label)\n",
    "])\n",
    "\n",
    "model.summary()"
   ]
  },
  {
   "cell_type": "code",
   "execution_count": 45,
   "metadata": {},
   "outputs": [],
   "source": [
    "model.compile(\n",
    "    optimizer=tf.keras.optimizers.Adam(),\n",
    "    loss=tf.keras.losses.SparseCategoricalCrossentropy(from_logits=True),\n",
    "    metrics=['accuracy']\n",
    ")"
   ]
  },
  {
   "cell_type": "code",
   "execution_count": 46,
   "metadata": {},
   "outputs": [
    {
     "name": "stdout",
     "output_type": "stream",
     "text": [
      "Epoch 1/10\n",
      "23/23 [==============================] - 2s 51ms/step - loss: 0.9806 - accuracy: 0.7923 - val_loss: 0.6256 - val_accuracy: 0.9070\n",
      "Epoch 2/10\n",
      "23/23 [==============================] - 1s 32ms/step - loss: 0.7560 - accuracy: 0.8279 - val_loss: 0.4341 - val_accuracy: 0.9070\n",
      "Epoch 3/10\n",
      "23/23 [==============================] - 1s 35ms/step - loss: 0.6693 - accuracy: 0.8279 - val_loss: 0.5198 - val_accuracy: 0.9070\n",
      "Epoch 4/10\n",
      "23/23 [==============================] - 1s 35ms/step - loss: 0.6337 - accuracy: 0.8333 - val_loss: 0.4360 - val_accuracy: 0.9070\n",
      "Epoch 5/10\n",
      "23/23 [==============================] - 1s 37ms/step - loss: 0.5682 - accuracy: 0.8415 - val_loss: 0.4640 - val_accuracy: 0.9070\n",
      "Epoch 5: early stopping\n"
     ]
    }
   ],
   "source": [
    "history = model.fit(\n",
    "    train_set_spec,\n",
    "    validation_data=val_set_spec,\n",
    "    epochs=10,\n",
    "    callbacks=tf.keras.callbacks.EarlyStopping(patience=3, verbose=3)\n",
    ")"
   ]
  },
  {
   "cell_type": "code",
   "execution_count": 47,
   "metadata": {},
   "outputs": [],
   "source": [
    "model.save('cry_classification_model.h5')"
   ]
  },
  {
   "cell_type": "code",
   "execution_count": 48,
   "metadata": {},
   "outputs": [
    {
     "name": "stdout",
     "output_type": "stream",
     "text": [
      "WARNING:tensorflow:6 out of the last 10 calls to <function Model.make_predict_function.<locals>.predict_function at 0x000001FEE6877740> triggered tf.function retracing. Tracing is expensive and the excessive number of tracings could be due to (1) creating @tf.function repeatedly in a loop, (2) passing tensors with different shapes, (3) passing Python objects instead of tensors. For (1), please define your @tf.function outside of the loop. For (2), @tf.function has reduce_retracing=True option that can avoid unnecessary retracing. For (3), please refer to https://www.tensorflow.org/guide/function#controlling_retracing and https://www.tensorflow.org/api_docs/python/tf/function for  more details.\n",
      "1/1 [==============================] - 0s 82ms/step\n",
      "Data-1: label: hungry -> predicted: hungry\n",
      "Data-2: label: hungry -> predicted: hungry\n",
      "Data-3: label: hungry -> predicted: hungry\n",
      "Data-4: label: hungry -> predicted: hungry\n",
      "Data-5: label: hungry -> predicted: hungry\n",
      "Data-6: label: tired -> predicted: hungry\n",
      "Data-7: label: hungry -> predicted: hungry\n",
      "Data-8: label: hungry -> predicted: hungry\n",
      "Data-9: label: hungry -> predicted: hungry\n",
      "Data-10: label: hungry -> predicted: hungry\n",
      "Data-11: label: hungry -> predicted: hungry\n",
      "Data-12: label: hungry -> predicted: hungry\n",
      "Data-13: label: hungry -> predicted: hungry\n",
      "Data-14: label: hungry -> predicted: hungry\n",
      "Data-15: label: hungry -> predicted: hungry\n",
      "Data-16: label: hungry -> predicted: hungry\n",
      "1/1 [==============================] - 0s 26ms/step\n",
      "Data-17: label: hungry -> predicted: hungry\n",
      "Data-18: label: hungry -> predicted: hungry\n",
      "Data-19: label: hungry -> predicted: hungry\n",
      "Data-20: label: hungry -> predicted: hungry\n",
      "Data-21: label: discomfort -> predicted: hungry\n",
      "Data-22: label: hungry -> predicted: hungry\n",
      "Data-23: label: hungry -> predicted: hungry\n",
      "Data-24: label: hungry -> predicted: hungry\n",
      "Data-25: label: hungry -> predicted: hungry\n",
      "Data-26: label: hungry -> predicted: hungry\n",
      "Data-27: label: hungry -> predicted: hungry\n",
      "Data-28: label: discomfort -> predicted: hungry\n",
      "Data-29: label: discomfort -> predicted: hungry\n",
      "Data-30: label: hungry -> predicted: hungry\n",
      "Data-31: label: hungry -> predicted: hungry\n",
      "Data-32: label: hungry -> predicted: hungry\n",
      "1/1 [==============================] - 0s 25ms/step\n",
      "Data-33: label: hungry -> predicted: hungry\n",
      "Data-34: label: discomfort -> predicted: hungry\n",
      "Data-35: label: hungry -> predicted: hungry\n",
      "Data-36: label: hungry -> predicted: hungry\n",
      "Data-37: label: tired -> predicted: hungry\n",
      "Data-38: label: hungry -> predicted: hungry\n",
      "Data-39: label: tired -> predicted: hungry\n",
      "Data-40: label: discomfort -> predicted: hungry\n",
      "Data-41: label: hungry -> predicted: hungry\n",
      "Data-42: label: hungry -> predicted: hungry\n",
      "Data-43: label: hungry -> predicted: hungry\n",
      "Data-44: label: hungry -> predicted: hungry\n",
      "Data-45: label: hungry -> predicted: hungry\n",
      "Data-46: label: hungry -> predicted: hungry\n",
      "Data-47: label: hungry -> predicted: hungry\n",
      "Data-48: label: hungry -> predicted: hungry\n"
     ]
    }
   ],
   "source": [
    "ctr=0\n",
    "for i , (spectogram, label) in enumerate(test_set_spec):\n",
    "    pred = model.predict(spectogram)\n",
    "    pred_label_idx = tf.argmax(pred, axis=1).numpy()\n",
    "    orig_label = label_names[label.numpy()]\n",
    "    pred_label = [label_names[idx] for idx in pred_label_idx]\n",
    "    for j, label in enumerate(orig_label):\n",
    "        ctr+=1\n",
    "        print(f'Data-{ctr}: label: {label} -> predicted: {pred_label[j]}') \n",
    "    "
   ]
  },
  {
   "cell_type": "code",
   "execution_count": 49,
   "metadata": {},
   "outputs": [
    {
     "name": "stdout",
     "output_type": "stream",
     "text": [
      "1/3 [=========>....................] - ETA: 0s - loss: 0.3449 - accuracy: 0.9375"
     ]
    },
    {
     "name": "stdout",
     "output_type": "stream",
     "text": [
      "3/3 [==============================] - 0s 8ms/step - loss: 0.8712 - accuracy: 0.8333\n",
      "Accuracy on test set = 83.33%\n"
     ]
    }
   ],
   "source": [
    "test_result = model.evaluate(test_set_spec, return_dict=True)\n",
    "accuracy = test_result['accuracy']\n",
    "print(\"Accuracy on test set = {:.2f}%\".format(accuracy*100))"
   ]
  },
  {
   "cell_type": "code",
   "execution_count": 50,
   "metadata": {},
   "outputs": [
    {
     "data": {
      "text/plain": [
       "Text(0, 0.5, 'Accuracy [%]')"
      ]
     },
     "execution_count": 50,
     "metadata": {},
     "output_type": "execute_result"
    },
    {
     "data": {
      "image/png": "[encoded data removed]",
      "text/plain": [
       "<Figure size 1600x600 with 1 Axes>"
      ]
     },
     "metadata": {},
     "output_type": "display_data"
    }
   ],
   "source": [
    "metrics = history.history\n",
    "plt.figure(figsize=(16,6)),\n",
    "plt.plot(history.epoch,100*np.array(metrics['accuracy']), 100*np.array(metrics['val_accuracy']))\n",
    "plt.legend(['accuracy', 'val_accuracy'])\n",
    "plt.ylim([0,100])\n",
    "plt.xlabel('Epoch')\n",
    "plt.ylabel('Accuracy [%]')"
   ]
  }
 ],
 "metadata": {
  "kernelspec": {
   "display_name": "Python 3",
   "language": "python",
   "name": "python3"
  },
  "language_info": {
   "codemirror_mode": {
    "name": "ipython",
    "version": 3
   },
   "file_extension": ".py",
   "mimetype": "text/x-python",
   "name": "python",
   "nbconvert_exporter": "python",
   "pygments_lexer": "ipython3",
   "version": "3.11.3"
  }
 },
 "nbformat": 4,
 "nbformat_minor": 2
}
